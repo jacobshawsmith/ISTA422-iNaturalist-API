{
 "cells": [
  {
   "cell_type": "markdown",
   "metadata": {},
   "source": [
    "# iNaturalist API of 10 species from 2016\n",
    "##### Script to get API data from select species\n",
    "##### with help from JJARvis, as well as team ETJ"
   ]
  },
  {
   "cell_type": "code",
   "execution_count": null,
   "metadata": {
    "collapsed": false
   },
   "outputs": [],
   "source": [
    "import requests\n",
    "import json\n",
    "import pandas as pd"
   ]
  },
  {
   "cell_type": "markdown",
   "metadata": {},
   "source": [
    "#### Imported necessary libraries, used pandas to create the dataframe"
   ]
  },
  {
   "cell_type": "code",
   "execution_count": 30,
   "metadata": {
    "collapsed": false,
    "scrolled": true
   },
   "outputs": [
    {
     "name": "stdout",
     "output_type": "stream",
     "text": [
      "        January  February  March  April  May  June  July  August  September  \\\n",
      "48662       102       175    266    304  216   224   416     742        984   \n",
      "49348         1         6     73     59   43    26    67      70         50   \n",
      "129362        3         1      1      7    4     4     9      13         48   \n",
      "68263         0         2      4     11   14    33    32      32         31   \n",
      "49150        29        33     42     80   88    97   192     243        348   \n",
      "50072         1         5     10      9   18    40    54     104         73   \n",
      "50931         4        29     16    128   99   100   123     162        219   \n",
      "48548        12        24     32     61   47    97   121      86         76   \n",
      "50340         5        11     40     72   65   117   148     223        292   \n",
      "51743        15         9     12     20   31    55    92     118        201   \n",
      "\n",
      "        October  November  December  \n",
      "48662      1249       584       265  \n",
      "49348        16         5         1  \n",
      "129362       87       109        20  \n",
      "68263        21         5         3  \n",
      "49150       698       387        75  \n",
      "50072        76        12         3  \n",
      "50931       240        29         2  \n",
      "48548       104       164        38  \n",
      "50340       279       128        17  \n",
      "51743       364       244        82  \n"
     ]
    }
   ],
   "source": [
    "ids = ['48662', '49348', '129362', '68263', '49150', '50072', '50931', '48548', '50340', '51743']\n",
    "month_num = [1, 2, 3, 4, 5, 6, 7, 8, 9, 10, 11, 12]\n",
    "month_name = [\"January\", \"February\", \"March\", \"April\", \"May\", \"June\", \"July\", \"August\",\n",
    "              \"September\", \"October\", \"November\", \"December\"]\n",
    "list = []\n",
    "for i in ids:\n",
    "    monthlist = []\n",
    "    for j in month_num:\n",
    "        earl = \"http://api.inaturalist.org/v1/observations?taxon_id={}&month={}&year=2016\".format(i,j)\n",
    "        r = requests.get(url = earl)\n",
    "        x = json.loads(r.text)\n",
    "        monthlist.append(x['total_results'])\n",
    "    list.append(monthlist)\n",
    "df = pd.DataFrame(list, index = ids, columns = month_name)\n",
    "print(df)"
   ]
  },
  {
   "cell_type": "markdown",
   "metadata": {},
   "source": [
    "#### Created a list of lists to be used as data for the dataframe. Iterated over each id, and then iterated over the month for each id. Appended the total number of results for each json into a list."
   ]
  }
 ],
 "metadata": {
  "kernelspec": {
   "display_name": "Python [Root]",
   "language": "python",
   "name": "Python [Root]"
  },
  "language_info": {
   "codemirror_mode": {
    "name": "ipython",
    "version": 3
   },
   "file_extension": ".py",
   "mimetype": "text/x-python",
   "name": "python",
   "nbconvert_exporter": "python",
   "pygments_lexer": "ipython3",
   "version": "3.5.2"
  }
 },
 "nbformat": 4,
 "nbformat_minor": 0
}
